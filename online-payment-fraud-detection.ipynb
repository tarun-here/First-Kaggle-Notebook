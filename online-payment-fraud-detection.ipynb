{
 "cells": [
  {
   "cell_type": "code",
   "execution_count": 1,
   "id": "46310a2a",
   "metadata": {
    "_cell_guid": "b1076dfc-b9ad-4769-8c92-a6c4dae69d19",
    "_uuid": "8f2839f25d086af736a60e9eeb907d3b93b6e0e5",
    "execution": {
     "iopub.execute_input": "2023-08-19T00:56:40.670722Z",
     "iopub.status.busy": "2023-08-19T00:56:40.669775Z",
     "iopub.status.idle": "2023-08-19T00:56:40.685807Z",
     "shell.execute_reply": "2023-08-19T00:56:40.684800Z"
    },
    "papermill": {
     "duration": 0.030311,
     "end_time": "2023-08-19T00:56:40.688434",
     "exception": false,
     "start_time": "2023-08-19T00:56:40.658123",
     "status": "completed"
    },
    "tags": []
   },
   "outputs": [
    {
     "name": "stdout",
     "output_type": "stream",
     "text": [
      "/kaggle/input/online-payments-fraud-detection-dataset/PS_20174392719_1491204439457_log.csv\n"
     ]
    }
   ],
   "source": [
    "# This Python 3 environment comes with many helpful analytics libraries installed\n",
    "# It is defined by the kaggle/python Docker image: https://github.com/kaggle/docker-python\n",
    "# For example, here's several helpful packages to load\n",
    "\n",
    "import numpy as np # linear algebra\n",
    "import pandas as pd # data processing, CSV file I/O (e.g. pd.read_csv)\n",
    "\n",
    "# Input data files are available in the read-only \"../input/\" directory\n",
    "# For example, running this (by clicking run or pressing Shift+Enter) will list all files under the input directory\n",
    "\n",
    "import os\n",
    "for dirname, _, filenames in os.walk('/kaggle/input'):\n",
    "    for filename in filenames:\n",
    "        print(os.path.join(dirname, filename))\n",
    "\n",
    "# You can write up to 20GB to the current directory (/kaggle/working/) that gets preserved as output when you create a version using \"Save & Run All\" \n",
    "# You can also write temporary files to /kaggle/temp/, but they won't be saved outside of the current session"
   ]
  },
  {
   "cell_type": "code",
   "execution_count": 2,
   "id": "c476a39d",
   "metadata": {
    "execution": {
     "iopub.execute_input": "2023-08-19T00:56:40.703010Z",
     "iopub.status.busy": "2023-08-19T00:56:40.702417Z",
     "iopub.status.idle": "2023-08-19T00:56:58.557293Z",
     "shell.execute_reply": "2023-08-19T00:56:58.556247Z"
    },
    "papermill": {
     "duration": 17.864884,
     "end_time": "2023-08-19T00:56:58.559632",
     "exception": false,
     "start_time": "2023-08-19T00:56:40.694748",
     "status": "completed"
    },
    "tags": []
   },
   "outputs": [
    {
     "data": {
      "text/html": [
       "<div>\n",
       "<style scoped>\n",
       "    .dataframe tbody tr th:only-of-type {\n",
       "        vertical-align: middle;\n",
       "    }\n",
       "\n",
       "    .dataframe tbody tr th {\n",
       "        vertical-align: top;\n",
       "    }\n",
       "\n",
       "    .dataframe thead th {\n",
       "        text-align: right;\n",
       "    }\n",
       "</style>\n",
       "<table border=\"1\" class=\"dataframe\">\n",
       "  <thead>\n",
       "    <tr style=\"text-align: right;\">\n",
       "      <th></th>\n",
       "      <th>step</th>\n",
       "      <th>type</th>\n",
       "      <th>amount</th>\n",
       "      <th>nameOrig</th>\n",
       "      <th>oldbalanceOrg</th>\n",
       "      <th>newbalanceOrig</th>\n",
       "      <th>nameDest</th>\n",
       "      <th>oldbalanceDest</th>\n",
       "      <th>newbalanceDest</th>\n",
       "      <th>isFraud</th>\n",
       "      <th>isFlaggedFraud</th>\n",
       "    </tr>\n",
       "  </thead>\n",
       "  <tbody>\n",
       "    <tr>\n",
       "      <th>0</th>\n",
       "      <td>1</td>\n",
       "      <td>PAYMENT</td>\n",
       "      <td>9839.64</td>\n",
       "      <td>C1231006815</td>\n",
       "      <td>170136.0</td>\n",
       "      <td>160296.36</td>\n",
       "      <td>M1979787155</td>\n",
       "      <td>0.0</td>\n",
       "      <td>0.0</td>\n",
       "      <td>0</td>\n",
       "      <td>0</td>\n",
       "    </tr>\n",
       "    <tr>\n",
       "      <th>1</th>\n",
       "      <td>1</td>\n",
       "      <td>PAYMENT</td>\n",
       "      <td>1864.28</td>\n",
       "      <td>C1666544295</td>\n",
       "      <td>21249.0</td>\n",
       "      <td>19384.72</td>\n",
       "      <td>M2044282225</td>\n",
       "      <td>0.0</td>\n",
       "      <td>0.0</td>\n",
       "      <td>0</td>\n",
       "      <td>0</td>\n",
       "    </tr>\n",
       "    <tr>\n",
       "      <th>2</th>\n",
       "      <td>1</td>\n",
       "      <td>TRANSFER</td>\n",
       "      <td>181.00</td>\n",
       "      <td>C1305486145</td>\n",
       "      <td>181.0</td>\n",
       "      <td>0.00</td>\n",
       "      <td>C553264065</td>\n",
       "      <td>0.0</td>\n",
       "      <td>0.0</td>\n",
       "      <td>1</td>\n",
       "      <td>0</td>\n",
       "    </tr>\n",
       "    <tr>\n",
       "      <th>3</th>\n",
       "      <td>1</td>\n",
       "      <td>CASH_OUT</td>\n",
       "      <td>181.00</td>\n",
       "      <td>C840083671</td>\n",
       "      <td>181.0</td>\n",
       "      <td>0.00</td>\n",
       "      <td>C38997010</td>\n",
       "      <td>21182.0</td>\n",
       "      <td>0.0</td>\n",
       "      <td>1</td>\n",
       "      <td>0</td>\n",
       "    </tr>\n",
       "    <tr>\n",
       "      <th>4</th>\n",
       "      <td>1</td>\n",
       "      <td>PAYMENT</td>\n",
       "      <td>11668.14</td>\n",
       "      <td>C2048537720</td>\n",
       "      <td>41554.0</td>\n",
       "      <td>29885.86</td>\n",
       "      <td>M1230701703</td>\n",
       "      <td>0.0</td>\n",
       "      <td>0.0</td>\n",
       "      <td>0</td>\n",
       "      <td>0</td>\n",
       "    </tr>\n",
       "  </tbody>\n",
       "</table>\n",
       "</div>"
      ],
      "text/plain": [
       "   step      type    amount     nameOrig  oldbalanceOrg  newbalanceOrig  \\\n",
       "0     1   PAYMENT   9839.64  C1231006815       170136.0       160296.36   \n",
       "1     1   PAYMENT   1864.28  C1666544295        21249.0        19384.72   \n",
       "2     1  TRANSFER    181.00  C1305486145          181.0            0.00   \n",
       "3     1  CASH_OUT    181.00   C840083671          181.0            0.00   \n",
       "4     1   PAYMENT  11668.14  C2048537720        41554.0        29885.86   \n",
       "\n",
       "      nameDest  oldbalanceDest  newbalanceDest  isFraud  isFlaggedFraud  \n",
       "0  M1979787155             0.0             0.0        0               0  \n",
       "1  M2044282225             0.0             0.0        0               0  \n",
       "2   C553264065             0.0             0.0        1               0  \n",
       "3    C38997010         21182.0             0.0        1               0  \n",
       "4  M1230701703             0.0             0.0        0               0  "
      ]
     },
     "execution_count": 2,
     "metadata": {},
     "output_type": "execute_result"
    }
   ],
   "source": [
    "data = \"/kaggle/input/online-payments-fraud-detection-dataset/PS_20174392719_1491204439457_log.csv\"\n",
    "df=pd.read_csv(data)\n",
    "df.head()"
   ]
  },
  {
   "cell_type": "code",
   "execution_count": 3,
   "id": "d68bae62",
   "metadata": {
    "execution": {
     "iopub.execute_input": "2023-08-19T00:56:58.573640Z",
     "iopub.status.busy": "2023-08-19T00:56:58.573279Z",
     "iopub.status.idle": "2023-08-19T00:57:01.448858Z",
     "shell.execute_reply": "2023-08-19T00:57:01.447737Z"
    },
    "papermill": {
     "duration": 2.885309,
     "end_time": "2023-08-19T00:57:01.451273",
     "exception": false,
     "start_time": "2023-08-19T00:56:58.565964",
     "status": "completed"
    },
    "tags": []
   },
   "outputs": [
    {
     "name": "stdout",
     "output_type": "stream",
     "text": [
      "<class 'pandas.core.frame.DataFrame'>\n",
      "RangeIndex: 6362620 entries, 0 to 6362619\n",
      "Data columns (total 11 columns):\n",
      " #   Column          Non-Null Count    Dtype  \n",
      "---  ------          --------------    -----  \n",
      " 0   step            6362620 non-null  int64  \n",
      " 1   type            6362620 non-null  object \n",
      " 2   amount          6362620 non-null  float64\n",
      " 3   nameOrig        6362620 non-null  object \n",
      " 4   oldbalanceOrg   6362620 non-null  float64\n",
      " 5   newbalanceOrig  6362620 non-null  float64\n",
      " 6   nameDest        6362620 non-null  object \n",
      " 7   oldbalanceDest  6362620 non-null  float64\n",
      " 8   newbalanceDest  6362620 non-null  float64\n",
      " 9   isFraud         6362620 non-null  int64  \n",
      " 10  isFlaggedFraud  6362620 non-null  int64  \n",
      "dtypes: float64(5), int64(3), object(3)\n",
      "memory usage: 534.0+ MB\n"
     ]
    }
   ],
   "source": [
    "df.shape\n",
    "df.info(show_counts=True)"
   ]
  },
  {
   "cell_type": "markdown",
   "id": "b9fa8097",
   "metadata": {
    "papermill": {
     "duration": 0.0059,
     "end_time": "2023-08-19T00:57:01.464029",
     "exception": false,
     "start_time": "2023-08-19T00:57:01.458129",
     "status": "completed"
    },
    "tags": []
   },
   "source": [
    "> **Checking the values:**"
   ]
  },
  {
   "cell_type": "code",
   "execution_count": 4,
   "id": "22ffc3a0",
   "metadata": {
    "execution": {
     "iopub.execute_input": "2023-08-19T00:57:01.478567Z",
     "iopub.status.busy": "2023-08-19T00:57:01.477879Z",
     "iopub.status.idle": "2023-08-19T00:57:02.123753Z",
     "shell.execute_reply": "2023-08-19T00:57:02.122170Z"
    },
    "papermill": {
     "duration": 0.655929,
     "end_time": "2023-08-19T00:57:02.126246",
     "exception": false,
     "start_time": "2023-08-19T00:57:01.470317",
     "status": "completed"
    },
    "tags": []
   },
   "outputs": [
    {
     "name": "stdout",
     "output_type": "stream",
     "text": [
      "CASH_OUT    2237500\n",
      "PAYMENT     2151495\n",
      "CASH_IN     1399284\n",
      "TRANSFER     532909\n",
      "DEBIT         41432\n",
      "Name: type, dtype: int64\n",
      "0    6362604\n",
      "1         16\n",
      "Name: isFlaggedFraud, dtype: int64\n",
      "0    6354407\n",
      "1       8213\n",
      "Name: isFraud, dtype: int64\n"
     ]
    }
   ],
   "source": [
    "print(df.type.value_counts())\n",
    "print(df['isFlaggedFraud'].value_counts())\n",
    "print(df['isFraud'].value_counts())"
   ]
  },
  {
   "cell_type": "code",
   "execution_count": 5,
   "id": "8beaa631",
   "metadata": {
    "execution": {
     "iopub.execute_input": "2023-08-19T00:57:02.141596Z",
     "iopub.status.busy": "2023-08-19T00:57:02.141200Z",
     "iopub.status.idle": "2023-08-19T00:57:04.098838Z",
     "shell.execute_reply": "2023-08-19T00:57:04.097660Z"
    },
    "papermill": {
     "duration": 1.969364,
     "end_time": "2023-08-19T00:57:04.102004",
     "exception": false,
     "start_time": "2023-08-19T00:57:02.132640",
     "status": "completed"
    },
    "tags": []
   },
   "outputs": [
    {
     "data": {
      "text/html": [
       "<div>\n",
       "<style scoped>\n",
       "    .dataframe tbody tr th:only-of-type {\n",
       "        vertical-align: middle;\n",
       "    }\n",
       "\n",
       "    .dataframe tbody tr th {\n",
       "        vertical-align: top;\n",
       "    }\n",
       "\n",
       "    .dataframe thead th {\n",
       "        text-align: right;\n",
       "    }\n",
       "</style>\n",
       "<table border=\"1\" class=\"dataframe\">\n",
       "  <thead>\n",
       "    <tr style=\"text-align: right;\">\n",
       "      <th></th>\n",
       "      <th>step</th>\n",
       "      <th>amount</th>\n",
       "      <th>oldbalanceOrg</th>\n",
       "      <th>newbalanceOrig</th>\n",
       "      <th>oldbalanceDest</th>\n",
       "      <th>newbalanceDest</th>\n",
       "      <th>isFraud</th>\n",
       "      <th>isFlaggedFraud</th>\n",
       "    </tr>\n",
       "  </thead>\n",
       "  <tbody>\n",
       "    <tr>\n",
       "      <th>count</th>\n",
       "      <td>6.362620e+06</td>\n",
       "      <td>6.362620e+06</td>\n",
       "      <td>6.362620e+06</td>\n",
       "      <td>6.362620e+06</td>\n",
       "      <td>6.362620e+06</td>\n",
       "      <td>6.362620e+06</td>\n",
       "      <td>6.362620e+06</td>\n",
       "      <td>6.362620e+06</td>\n",
       "    </tr>\n",
       "    <tr>\n",
       "      <th>mean</th>\n",
       "      <td>2.433972e+02</td>\n",
       "      <td>1.798619e+05</td>\n",
       "      <td>8.338831e+05</td>\n",
       "      <td>8.551137e+05</td>\n",
       "      <td>1.100702e+06</td>\n",
       "      <td>1.224996e+06</td>\n",
       "      <td>1.290820e-03</td>\n",
       "      <td>2.514687e-06</td>\n",
       "    </tr>\n",
       "    <tr>\n",
       "      <th>std</th>\n",
       "      <td>1.423320e+02</td>\n",
       "      <td>6.038582e+05</td>\n",
       "      <td>2.888243e+06</td>\n",
       "      <td>2.924049e+06</td>\n",
       "      <td>3.399180e+06</td>\n",
       "      <td>3.674129e+06</td>\n",
       "      <td>3.590480e-02</td>\n",
       "      <td>1.585775e-03</td>\n",
       "    </tr>\n",
       "    <tr>\n",
       "      <th>min</th>\n",
       "      <td>1.000000e+00</td>\n",
       "      <td>0.000000e+00</td>\n",
       "      <td>0.000000e+00</td>\n",
       "      <td>0.000000e+00</td>\n",
       "      <td>0.000000e+00</td>\n",
       "      <td>0.000000e+00</td>\n",
       "      <td>0.000000e+00</td>\n",
       "      <td>0.000000e+00</td>\n",
       "    </tr>\n",
       "    <tr>\n",
       "      <th>25%</th>\n",
       "      <td>1.560000e+02</td>\n",
       "      <td>1.338957e+04</td>\n",
       "      <td>0.000000e+00</td>\n",
       "      <td>0.000000e+00</td>\n",
       "      <td>0.000000e+00</td>\n",
       "      <td>0.000000e+00</td>\n",
       "      <td>0.000000e+00</td>\n",
       "      <td>0.000000e+00</td>\n",
       "    </tr>\n",
       "    <tr>\n",
       "      <th>50%</th>\n",
       "      <td>2.390000e+02</td>\n",
       "      <td>7.487194e+04</td>\n",
       "      <td>1.420800e+04</td>\n",
       "      <td>0.000000e+00</td>\n",
       "      <td>1.327057e+05</td>\n",
       "      <td>2.146614e+05</td>\n",
       "      <td>0.000000e+00</td>\n",
       "      <td>0.000000e+00</td>\n",
       "    </tr>\n",
       "    <tr>\n",
       "      <th>75%</th>\n",
       "      <td>3.350000e+02</td>\n",
       "      <td>2.087215e+05</td>\n",
       "      <td>1.073152e+05</td>\n",
       "      <td>1.442584e+05</td>\n",
       "      <td>9.430367e+05</td>\n",
       "      <td>1.111909e+06</td>\n",
       "      <td>0.000000e+00</td>\n",
       "      <td>0.000000e+00</td>\n",
       "    </tr>\n",
       "    <tr>\n",
       "      <th>max</th>\n",
       "      <td>7.430000e+02</td>\n",
       "      <td>9.244552e+07</td>\n",
       "      <td>5.958504e+07</td>\n",
       "      <td>4.958504e+07</td>\n",
       "      <td>3.560159e+08</td>\n",
       "      <td>3.561793e+08</td>\n",
       "      <td>1.000000e+00</td>\n",
       "      <td>1.000000e+00</td>\n",
       "    </tr>\n",
       "  </tbody>\n",
       "</table>\n",
       "</div>"
      ],
      "text/plain": [
       "               step        amount  oldbalanceOrg  newbalanceOrig  \\\n",
       "count  6.362620e+06  6.362620e+06   6.362620e+06    6.362620e+06   \n",
       "mean   2.433972e+02  1.798619e+05   8.338831e+05    8.551137e+05   \n",
       "std    1.423320e+02  6.038582e+05   2.888243e+06    2.924049e+06   \n",
       "min    1.000000e+00  0.000000e+00   0.000000e+00    0.000000e+00   \n",
       "25%    1.560000e+02  1.338957e+04   0.000000e+00    0.000000e+00   \n",
       "50%    2.390000e+02  7.487194e+04   1.420800e+04    0.000000e+00   \n",
       "75%    3.350000e+02  2.087215e+05   1.073152e+05    1.442584e+05   \n",
       "max    7.430000e+02  9.244552e+07   5.958504e+07    4.958504e+07   \n",
       "\n",
       "       oldbalanceDest  newbalanceDest       isFraud  isFlaggedFraud  \n",
       "count    6.362620e+06    6.362620e+06  6.362620e+06    6.362620e+06  \n",
       "mean     1.100702e+06    1.224996e+06  1.290820e-03    2.514687e-06  \n",
       "std      3.399180e+06    3.674129e+06  3.590480e-02    1.585775e-03  \n",
       "min      0.000000e+00    0.000000e+00  0.000000e+00    0.000000e+00  \n",
       "25%      0.000000e+00    0.000000e+00  0.000000e+00    0.000000e+00  \n",
       "50%      1.327057e+05    2.146614e+05  0.000000e+00    0.000000e+00  \n",
       "75%      9.430367e+05    1.111909e+06  0.000000e+00    0.000000e+00  \n",
       "max      3.560159e+08    3.561793e+08  1.000000e+00    1.000000e+00  "
      ]
     },
     "execution_count": 5,
     "metadata": {},
     "output_type": "execute_result"
    }
   ],
   "source": [
    "df.describe()"
   ]
  },
  {
   "cell_type": "code",
   "execution_count": 6,
   "id": "54bca056",
   "metadata": {
    "execution": {
     "iopub.execute_input": "2023-08-19T00:57:04.117063Z",
     "iopub.status.busy": "2023-08-19T00:57:04.116742Z",
     "iopub.status.idle": "2023-08-19T00:57:05.383711Z",
     "shell.execute_reply": "2023-08-19T00:57:05.382658Z"
    },
    "papermill": {
     "duration": 1.277155,
     "end_time": "2023-08-19T00:57:05.386224",
     "exception": false,
     "start_time": "2023-08-19T00:57:04.109069",
     "status": "completed"
    },
    "tags": []
   },
   "outputs": [
    {
     "name": "stderr",
     "output_type": "stream",
     "text": [
      "/opt/conda/lib/python3.10/site-packages/scipy/__init__.py:146: UserWarning: A NumPy version >=1.16.5 and <1.23.0 is required for this version of SciPy (detected version 1.23.5\n",
      "  warnings.warn(f\"A NumPy version >={np_minversion} and <{np_maxversion}\"\n"
     ]
    }
   ],
   "source": [
    "import matplotlib.pyplot as plt\n",
    "import seaborn as sns"
   ]
  },
  {
   "cell_type": "markdown",
   "id": "2f933fd6",
   "metadata": {
    "papermill": {
     "duration": 0.006447,
     "end_time": "2023-08-19T00:57:05.399464",
     "exception": false,
     "start_time": "2023-08-19T00:57:05.393017",
     "status": "completed"
    },
    "tags": []
   },
   "source": [
    ">****Creating a countplot****"
   ]
  },
  {
   "cell_type": "code",
   "execution_count": 7,
   "id": "bd5e35c4",
   "metadata": {
    "execution": {
     "iopub.execute_input": "2023-08-19T00:57:05.414202Z",
     "iopub.status.busy": "2023-08-19T00:57:05.413853Z",
     "iopub.status.idle": "2023-08-19T00:57:10.861305Z",
     "shell.execute_reply": "2023-08-19T00:57:10.860086Z"
    },
    "papermill": {
     "duration": 5.457184,
     "end_time": "2023-08-19T00:57:10.863505",
     "exception": false,
     "start_time": "2023-08-19T00:57:05.406321",
     "status": "completed"
    },
    "tags": []
   },
   "outputs": [
    {
     "data": {
      "image/png": "[encoded data removed]",
      "text/plain": [
       "<Figure size 1000x600 with 1 Axes>"
      ]
     },
     "metadata": {},
     "output_type": "display_data"
    }
   ],
   "source": [
    "plt.figure(figsize=(10, 6))\n",
    "plt.title(\"Type vs Count\")\n",
    "sns.countplot(data=df,x=\"type\",hue=\"isFraud\")\n",
    "plt.xlabel(\"Type\")\n",
    "plt.ylabel(\"Count\")\n",
    "plt.tight_layout()\n",
    "plt.show()"
   ]
  },
  {
   "cell_type": "markdown",
   "id": "8a5e193f",
   "metadata": {
    "papermill": {
     "duration": 0.006635,
     "end_time": "2023-08-19T00:57:10.877182",
     "exception": false,
     "start_time": "2023-08-19T00:57:10.870547",
     "status": "completed"
    },
    "tags": []
   },
   "source": [
    ">**Creating a barplot**"
   ]
  },
  {
   "cell_type": "code",
   "execution_count": 8,
   "id": "689acf79",
   "metadata": {
    "execution": {
     "iopub.execute_input": "2023-08-19T00:57:10.892231Z",
     "iopub.status.busy": "2023-08-19T00:57:10.891843Z",
     "iopub.status.idle": "2023-08-19T00:57:11.434281Z",
     "shell.execute_reply": "2023-08-19T00:57:11.433288Z"
    },
    "papermill": {
     "duration": 0.552462,
     "end_time": "2023-08-19T00:57:11.436430",
     "exception": false,
     "start_time": "2023-08-19T00:57:10.883968",
     "status": "completed"
    },
    "tags": []
   },
   "outputs": [
    {
     "data": {
      "image/png": "[encoded data removed]",
      "text/plain": [
       "<Figure size 1000x600 with 1 Axes>"
      ]
     },
     "metadata": {},
     "output_type": "display_data"
    }
   ],
   "source": [
    "plt.figure(figsize=(10, 6))\n",
    "plt.hist(df['step'],bins=50,color='skyblue',edgecolor='black')\n",
    "plt.title(\"Step vs Frequency\")\n",
    "plt.xlabel(\"Step (Time)\")\n",
    "plt.ylabel(\"Frequency\")\n",
    "plt.tight_layout()\n",
    "plt.show()"
   ]
  },
  {
   "cell_type": "markdown",
   "id": "a458c71b",
   "metadata": {
    "papermill": {
     "duration": 0.007894,
     "end_time": "2023-08-19T00:57:11.452289",
     "exception": false,
     "start_time": "2023-08-19T00:57:11.444395",
     "status": "completed"
    },
    "tags": []
   },
   "source": [
    "> ****Creating a Boxplot****"
   ]
  },
  {
   "cell_type": "code",
   "execution_count": 9,
   "id": "8f3084c0",
   "metadata": {
    "execution": {
     "iopub.execute_input": "2023-08-19T00:57:11.469332Z",
     "iopub.status.busy": "2023-08-19T00:57:11.468965Z",
     "iopub.status.idle": "2023-08-19T00:57:13.182591Z",
     "shell.execute_reply": "2023-08-19T00:57:13.181471Z"
    },
    "papermill": {
     "duration": 1.724799,
     "end_time": "2023-08-19T00:57:13.184852",
     "exception": false,
     "start_time": "2023-08-19T00:57:11.460053",
     "status": "completed"
    },
    "tags": []
   },
   "outputs": [
    {
     "data": {
      "image/png": "[encoded data removed]",
      "text/plain": [
       "<Figure size 800x600 with 1 Axes>"
      ]
     },
     "metadata": {},
     "output_type": "display_data"
    }
   ],
   "source": [
    "plt.figure(figsize=(8, 6))\n",
    "sns.boxplot(data=df, x='isFraud', y='amount')\n",
    "plt.title(\"Box Plot of Amounts by Fraud Status\")\n",
    "plt.xlabel(\"Fraud Status\")\n",
    "plt.ylabel(\"Transaction Amount\")\n",
    "plt.xticks([0, 1], labels=[\"Non-Fraud\", \"Fraud\"])\n",
    "plt.tight_layout()\n",
    "plt.show()"
   ]
  },
  {
   "cell_type": "markdown",
   "id": "5fcd4a24",
   "metadata": {
    "papermill": {
     "duration": 0.007625,
     "end_time": "2023-08-19T00:57:13.200402",
     "exception": false,
     "start_time": "2023-08-19T00:57:13.192777",
     "status": "completed"
    },
    "tags": []
   },
   "source": [
    "> ****one-hot encoding****"
   ]
  },
  {
   "cell_type": "code",
   "execution_count": 10,
   "id": "f3396b37",
   "metadata": {
    "execution": {
     "iopub.execute_input": "2023-08-19T00:57:13.217412Z",
     "iopub.status.busy": "2023-08-19T00:57:13.217031Z",
     "iopub.status.idle": "2023-08-19T00:57:14.836002Z",
     "shell.execute_reply": "2023-08-19T00:57:14.834931Z"
    },
    "papermill": {
     "duration": 1.630232,
     "end_time": "2023-08-19T00:57:14.838286",
     "exception": false,
     "start_time": "2023-08-19T00:57:13.208054",
     "status": "completed"
    },
    "tags": []
   },
   "outputs": [
    {
     "data": {
      "text/html": [
       "<div>\n",
       "<style scoped>\n",
       "    .dataframe tbody tr th:only-of-type {\n",
       "        vertical-align: middle;\n",
       "    }\n",
       "\n",
       "    .dataframe tbody tr th {\n",
       "        vertical-align: top;\n",
       "    }\n",
       "\n",
       "    .dataframe thead th {\n",
       "        text-align: right;\n",
       "    }\n",
       "</style>\n",
       "<table border=\"1\" class=\"dataframe\">\n",
       "  <thead>\n",
       "    <tr style=\"text-align: right;\">\n",
       "      <th></th>\n",
       "      <th>step</th>\n",
       "      <th>amount</th>\n",
       "      <th>nameOrig</th>\n",
       "      <th>oldbalanceOrg</th>\n",
       "      <th>newbalanceOrig</th>\n",
       "      <th>nameDest</th>\n",
       "      <th>oldbalanceDest</th>\n",
       "      <th>newbalanceDest</th>\n",
       "      <th>isFraud</th>\n",
       "      <th>isFlaggedFraud</th>\n",
       "      <th>type_CASH_OUT</th>\n",
       "      <th>type_DEBIT</th>\n",
       "      <th>type_PAYMENT</th>\n",
       "      <th>type_TRANSFER</th>\n",
       "    </tr>\n",
       "  </thead>\n",
       "  <tbody>\n",
       "    <tr>\n",
       "      <th>0</th>\n",
       "      <td>1</td>\n",
       "      <td>9839.64</td>\n",
       "      <td>C1231006815</td>\n",
       "      <td>170136.0</td>\n",
       "      <td>160296.36</td>\n",
       "      <td>M1979787155</td>\n",
       "      <td>0.0</td>\n",
       "      <td>0.0</td>\n",
       "      <td>0</td>\n",
       "      <td>0</td>\n",
       "      <td>0</td>\n",
       "      <td>0</td>\n",
       "      <td>1</td>\n",
       "      <td>0</td>\n",
       "    </tr>\n",
       "    <tr>\n",
       "      <th>1</th>\n",
       "      <td>1</td>\n",
       "      <td>1864.28</td>\n",
       "      <td>C1666544295</td>\n",
       "      <td>21249.0</td>\n",
       "      <td>19384.72</td>\n",
       "      <td>M2044282225</td>\n",
       "      <td>0.0</td>\n",
       "      <td>0.0</td>\n",
       "      <td>0</td>\n",
       "      <td>0</td>\n",
       "      <td>0</td>\n",
       "      <td>0</td>\n",
       "      <td>1</td>\n",
       "      <td>0</td>\n",
       "    </tr>\n",
       "    <tr>\n",
       "      <th>2</th>\n",
       "      <td>1</td>\n",
       "      <td>181.00</td>\n",
       "      <td>C1305486145</td>\n",
       "      <td>181.0</td>\n",
       "      <td>0.00</td>\n",
       "      <td>C553264065</td>\n",
       "      <td>0.0</td>\n",
       "      <td>0.0</td>\n",
       "      <td>1</td>\n",
       "      <td>0</td>\n",
       "      <td>0</td>\n",
       "      <td>0</td>\n",
       "      <td>0</td>\n",
       "      <td>1</td>\n",
       "    </tr>\n",
       "    <tr>\n",
       "      <th>3</th>\n",
       "      <td>1</td>\n",
       "      <td>181.00</td>\n",
       "      <td>C840083671</td>\n",
       "      <td>181.0</td>\n",
       "      <td>0.00</td>\n",
       "      <td>C38997010</td>\n",
       "      <td>21182.0</td>\n",
       "      <td>0.0</td>\n",
       "      <td>1</td>\n",
       "      <td>0</td>\n",
       "      <td>1</td>\n",
       "      <td>0</td>\n",
       "      <td>0</td>\n",
       "      <td>0</td>\n",
       "    </tr>\n",
       "    <tr>\n",
       "      <th>4</th>\n",
       "      <td>1</td>\n",
       "      <td>11668.14</td>\n",
       "      <td>C2048537720</td>\n",
       "      <td>41554.0</td>\n",
       "      <td>29885.86</td>\n",
       "      <td>M1230701703</td>\n",
       "      <td>0.0</td>\n",
       "      <td>0.0</td>\n",
       "      <td>0</td>\n",
       "      <td>0</td>\n",
       "      <td>0</td>\n",
       "      <td>0</td>\n",
       "      <td>1</td>\n",
       "      <td>0</td>\n",
       "    </tr>\n",
       "  </tbody>\n",
       "</table>\n",
       "</div>"
      ],
      "text/plain": [
       "   step    amount     nameOrig  oldbalanceOrg  newbalanceOrig     nameDest  \\\n",
       "0     1   9839.64  C1231006815       170136.0       160296.36  M1979787155   \n",
       "1     1   1864.28  C1666544295        21249.0        19384.72  M2044282225   \n",
       "2     1    181.00  C1305486145          181.0            0.00   C553264065   \n",
       "3     1    181.00   C840083671          181.0            0.00    C38997010   \n",
       "4     1  11668.14  C2048537720        41554.0        29885.86  M1230701703   \n",
       "\n",
       "   oldbalanceDest  newbalanceDest  isFraud  isFlaggedFraud  type_CASH_OUT  \\\n",
       "0             0.0             0.0        0               0              0   \n",
       "1             0.0             0.0        0               0              0   \n",
       "2             0.0             0.0        1               0              0   \n",
       "3         21182.0             0.0        1               0              1   \n",
       "4             0.0             0.0        0               0              0   \n",
       "\n",
       "   type_DEBIT  type_PAYMENT  type_TRANSFER  \n",
       "0           0             1              0  \n",
       "1           0             1              0  \n",
       "2           0             0              1  \n",
       "3           0             0              0  \n",
       "4           0             1              0  "
      ]
     },
     "execution_count": 10,
     "metadata": {},
     "output_type": "execute_result"
    }
   ],
   "source": [
    "df_encoded = pd.get_dummies(df, columns=['type'], drop_first=True)\n",
    "df_encoded.head()"
   ]
  },
  {
   "cell_type": "markdown",
   "id": "bfc42b4e",
   "metadata": {
    "papermill": {
     "duration": 0.007714,
     "end_time": "2023-08-19T00:57:14.854230",
     "exception": false,
     "start_time": "2023-08-19T00:57:14.846516",
     "status": "completed"
    },
    "tags": []
   },
   "source": [
    "> ****Importing Model training and Accuracy checking libraries****"
   ]
  },
  {
   "cell_type": "code",
   "execution_count": 11,
   "id": "48362eda",
   "metadata": {
    "execution": {
     "iopub.execute_input": "2023-08-19T00:57:14.873391Z",
     "iopub.status.busy": "2023-08-19T00:57:14.871379Z",
     "iopub.status.idle": "2023-08-19T00:57:15.364424Z",
     "shell.execute_reply": "2023-08-19T00:57:15.363533Z"
    },
    "papermill": {
     "duration": 0.504775,
     "end_time": "2023-08-19T00:57:15.366896",
     "exception": false,
     "start_time": "2023-08-19T00:57:14.862121",
     "status": "completed"
    },
    "tags": []
   },
   "outputs": [],
   "source": [
    "from sklearn.tree import DecisionTreeClassifier\n",
    "from sklearn.model_selection import train_test_split\n",
    "from sklearn.metrics import accuracy_score\n",
    "from sklearn.preprocessing import StandardScaler"
   ]
  },
  {
   "cell_type": "markdown",
   "id": "37eb1c21",
   "metadata": {
    "papermill": {
     "duration": 0.007901,
     "end_time": "2023-08-19T00:57:15.383344",
     "exception": false,
     "start_time": "2023-08-19T00:57:15.375443",
     "status": "completed"
    },
    "tags": []
   },
   "source": [
    "> ****Defining features and target variable****"
   ]
  },
  {
   "cell_type": "code",
   "execution_count": 12,
   "id": "c4878ce8",
   "metadata": {
    "execution": {
     "iopub.execute_input": "2023-08-19T00:57:15.401638Z",
     "iopub.status.busy": "2023-08-19T00:57:15.400980Z",
     "iopub.status.idle": "2023-08-19T00:57:16.693170Z",
     "shell.execute_reply": "2023-08-19T00:57:16.691791Z"
    },
    "papermill": {
     "duration": 1.30427,
     "end_time": "2023-08-19T00:57:16.695706",
     "exception": false,
     "start_time": "2023-08-19T00:57:15.391436",
     "status": "completed"
    },
    "tags": []
   },
   "outputs": [],
   "source": [
    "X = np.array(df_encoded[[\"type_CASH_OUT\",\"type_DEBIT\",\"type_PAYMENT\",\"type_TRANSFER\",\"amount\",\"oldbalanceOrg\",\"newbalanceOrig\"]])\n",
    "y = np.array(df_encoded[[\"isFraud\"]])"
   ]
  },
  {
   "cell_type": "markdown",
   "id": "04cfd330",
   "metadata": {
    "papermill": {
     "duration": 0.008094,
     "end_time": "2023-08-19T00:57:16.712929",
     "exception": false,
     "start_time": "2023-08-19T00:57:16.704835",
     "status": "completed"
    },
    "tags": []
   },
   "source": [
    "> ****Splitting the data into training and testing sets****"
   ]
  },
  {
   "cell_type": "code",
   "execution_count": 13,
   "id": "f4abb62d",
   "metadata": {
    "execution": {
     "iopub.execute_input": "2023-08-19T00:57:16.730776Z",
     "iopub.status.busy": "2023-08-19T00:57:16.730197Z",
     "iopub.status.idle": "2023-08-19T00:57:17.882421Z",
     "shell.execute_reply": "2023-08-19T00:57:17.881478Z"
    },
    "papermill": {
     "duration": 1.163945,
     "end_time": "2023-08-19T00:57:17.884874",
     "exception": false,
     "start_time": "2023-08-19T00:57:16.720929",
     "status": "completed"
    },
    "tags": []
   },
   "outputs": [],
   "source": [
    "X_train,X_test,y_train,y_test =train_test_split(X,y,test_size=0.2,random_state=42)"
   ]
  },
  {
   "cell_type": "markdown",
   "id": "22e60e8e",
   "metadata": {
    "papermill": {
     "duration": 0.008133,
     "end_time": "2023-08-19T00:57:17.901720",
     "exception": false,
     "start_time": "2023-08-19T00:57:17.893587",
     "status": "completed"
    },
    "tags": []
   },
   "source": [
    "> ****Scaling the numerical features as the numbers are too big****"
   ]
  },
  {
   "cell_type": "code",
   "execution_count": 14,
   "id": "4f94f851",
   "metadata": {
    "execution": {
     "iopub.execute_input": "2023-08-19T00:57:17.920332Z",
     "iopub.status.busy": "2023-08-19T00:57:17.919733Z",
     "iopub.status.idle": "2023-08-19T00:57:19.101231Z",
     "shell.execute_reply": "2023-08-19T00:57:19.099998Z"
    },
    "papermill": {
     "duration": 1.193915,
     "end_time": "2023-08-19T00:57:19.103897",
     "exception": false,
     "start_time": "2023-08-19T00:57:17.909982",
     "status": "completed"
    },
    "tags": []
   },
   "outputs": [],
   "source": [
    "scaler=StandardScaler()\n",
    "X_train2 =scaler.fit_transform(X_train)\n",
    "X_test2=scaler.transform(X_test)"
   ]
  },
  {
   "cell_type": "markdown",
   "id": "5b1aba00",
   "metadata": {
    "papermill": {
     "duration": 0.007785,
     "end_time": "2023-08-19T00:57:19.120072",
     "exception": false,
     "start_time": "2023-08-19T00:57:19.112287",
     "status": "completed"
    },
    "tags": []
   },
   "source": [
    "> ****Creating a Decision Tree Classifier****"
   ]
  },
  {
   "cell_type": "code",
   "execution_count": 15,
   "id": "427dffa3",
   "metadata": {
    "execution": {
     "iopub.execute_input": "2023-08-19T00:57:19.138075Z",
     "iopub.status.busy": "2023-08-19T00:57:19.137473Z",
     "iopub.status.idle": "2023-08-19T00:57:48.900264Z",
     "shell.execute_reply": "2023-08-19T00:57:48.899173Z"
    },
    "papermill": {
     "duration": 29.774569,
     "end_time": "2023-08-19T00:57:48.902658",
     "exception": false,
     "start_time": "2023-08-19T00:57:19.128089",
     "status": "completed"
    },
    "tags": []
   },
   "outputs": [
    {
     "data": {
      "text/html": [
       "<style>#sk-container-id-1 {color: black;background-color: white;}#sk-container-id-1 pre{padding: 0;}#sk-container-id-1 div.sk-toggleable {background-color: white;}#sk-container-id-1 label.sk-toggleable__label {cursor: pointer;display: block;width: 100%;margin-bottom: 0;padding: 0.3em;box-sizing: border-box;text-align: center;}#sk-container-id-1 label.sk-toggleable__label-arrow:before {content: \"▸\";float: left;margin-right: 0.25em;color: #696969;}#sk-container-id-1 label.sk-toggleable__label-arrow:hover:before {color: black;}#sk-container-id-1 div.sk-estimator:hover label.sk-toggleable__label-arrow:before {color: black;}#sk-container-id-1 div.sk-toggleable__content {max-height: 0;max-width: 0;overflow: hidden;text-align: left;background-color: #f0f8ff;}#sk-container-id-1 div.sk-toggleable__content pre {margin: 0.2em;color: black;border-radius: 0.25em;background-color: #f0f8ff;}#sk-container-id-1 input.sk-toggleable__control:checked~div.sk-toggleable__content {max-height: 200px;max-width: 100%;overflow: auto;}#sk-container-id-1 input.sk-toggleable__control:checked~label.sk-toggleable__label-arrow:before {content: \"▾\";}#sk-container-id-1 div.sk-estimator input.sk-toggleable__control:checked~label.sk-toggleable__label {background-color: #d4ebff;}#sk-container-id-1 div.sk-label input.sk-toggleable__control:checked~label.sk-toggleable__label {background-color: #d4ebff;}#sk-container-id-1 input.sk-hidden--visually {border: 0;clip: rect(1px 1px 1px 1px);clip: rect(1px, 1px, 1px, 1px);height: 1px;margin: -1px;overflow: hidden;padding: 0;position: absolute;width: 1px;}#sk-container-id-1 div.sk-estimator {font-family: monospace;background-color: #f0f8ff;border: 1px dotted black;border-radius: 0.25em;box-sizing: border-box;margin-bottom: 0.5em;}#sk-container-id-1 div.sk-estimator:hover {background-color: #d4ebff;}#sk-container-id-1 div.sk-parallel-item::after {content: \"\";width: 100%;border-bottom: 1px solid gray;flex-grow: 1;}#sk-container-id-1 div.sk-label:hover label.sk-toggleable__label {background-color: #d4ebff;}#sk-container-id-1 div.sk-serial::before {content: \"\";position: absolute;border-left: 1px solid gray;box-sizing: border-box;top: 0;bottom: 0;left: 50%;z-index: 0;}#sk-container-id-1 div.sk-serial {display: flex;flex-direction: column;align-items: center;background-color: white;padding-right: 0.2em;padding-left: 0.2em;position: relative;}#sk-container-id-1 div.sk-item {position: relative;z-index: 1;}#sk-container-id-1 div.sk-parallel {display: flex;align-items: stretch;justify-content: center;background-color: white;position: relative;}#sk-container-id-1 div.sk-item::before, #sk-container-id-1 div.sk-parallel-item::before {content: \"\";position: absolute;border-left: 1px solid gray;box-sizing: border-box;top: 0;bottom: 0;left: 50%;z-index: -1;}#sk-container-id-1 div.sk-parallel-item {display: flex;flex-direction: column;z-index: 1;position: relative;background-color: white;}#sk-container-id-1 div.sk-parallel-item:first-child::after {align-self: flex-end;width: 50%;}#sk-container-id-1 div.sk-parallel-item:last-child::after {align-self: flex-start;width: 50%;}#sk-container-id-1 div.sk-parallel-item:only-child::after {width: 0;}#sk-container-id-1 div.sk-dashed-wrapped {border: 1px dashed gray;margin: 0 0.4em 0.5em 0.4em;box-sizing: border-box;padding-bottom: 0.4em;background-color: white;}#sk-container-id-1 div.sk-label label {font-family: monospace;font-weight: bold;display: inline-block;line-height: 1.2em;}#sk-container-id-1 div.sk-label-container {text-align: center;}#sk-container-id-1 div.sk-container {/* jupyter's `normalize.less` sets `[hidden] { display: none; }` but bootstrap.min.css set `[hidden] { display: none !important; }` so we also need the `!important` here to be able to override the default hidden behavior on the sphinx rendered scikit-learn.org. See: https://github.com/scikit-learn/scikit-learn/issues/21755 */display: inline-block !important;position: relative;}#sk-container-id-1 div.sk-text-repr-fallback {display: none;}</style><div id=\"sk-container-id-1\" class=\"sk-top-container\"><div class=\"sk-text-repr-fallback\"><pre>DecisionTreeClassifier()</pre><b>In a Jupyter environment, please rerun this cell to show the HTML representation or trust the notebook. <br />On GitHub, the HTML representation is unable to render, please try loading this page with nbviewer.org.</b></div><div class=\"sk-container\" hidden><div class=\"sk-item\"><div class=\"sk-estimator sk-toggleable\"><input class=\"sk-toggleable__control sk-hidden--visually\" id=\"sk-estimator-id-1\" type=\"checkbox\" checked><label for=\"sk-estimator-id-1\" class=\"sk-toggleable__label sk-toggleable__label-arrow\">DecisionTreeClassifier</label><div class=\"sk-toggleable__content\"><pre>DecisionTreeClassifier()</pre></div></div></div></div></div>"
      ],
      "text/plain": [
       "DecisionTreeClassifier()"
      ]
     },
     "execution_count": 15,
     "metadata": {},
     "output_type": "execute_result"
    }
   ],
   "source": [
    "model=DecisionTreeClassifier()\n",
    "model.fit(X_train2,y_train)"
   ]
  },
  {
   "cell_type": "markdown",
   "id": "5a1e5867",
   "metadata": {
    "papermill": {
     "duration": 0.008246,
     "end_time": "2023-08-19T00:57:48.919735",
     "exception": false,
     "start_time": "2023-08-19T00:57:48.911489",
     "status": "completed"
    },
    "tags": []
   },
   "source": [
    "> ****Predicting****"
   ]
  },
  {
   "cell_type": "code",
   "execution_count": 16,
   "id": "c20e9a6b",
   "metadata": {
    "execution": {
     "iopub.execute_input": "2023-08-19T00:57:48.938243Z",
     "iopub.status.busy": "2023-08-19T00:57:48.937820Z",
     "iopub.status.idle": "2023-08-19T00:57:49.036154Z",
     "shell.execute_reply": "2023-08-19T00:57:49.035020Z"
    },
    "papermill": {
     "duration": 0.110728,
     "end_time": "2023-08-19T00:57:49.038829",
     "exception": false,
     "start_time": "2023-08-19T00:57:48.928101",
     "status": "completed"
    },
    "tags": []
   },
   "outputs": [],
   "source": [
    "y_prediction = model.predict(X_test2)"
   ]
  },
  {
   "cell_type": "markdown",
   "id": "64561967",
   "metadata": {
    "papermill": {
     "duration": 0.008239,
     "end_time": "2023-08-19T00:57:49.055934",
     "exception": false,
     "start_time": "2023-08-19T00:57:49.047695",
     "status": "completed"
    },
    "tags": []
   },
   "source": [
    "> ****At last, checking the accuracy****"
   ]
  },
  {
   "cell_type": "code",
   "execution_count": 17,
   "id": "a7022c99",
   "metadata": {
    "execution": {
     "iopub.execute_input": "2023-08-19T00:57:49.074657Z",
     "iopub.status.busy": "2023-08-19T00:57:49.073999Z",
     "iopub.status.idle": "2023-08-19T00:57:49.181891Z",
     "shell.execute_reply": "2023-08-19T00:57:49.180519Z"
    },
    "papermill": {
     "duration": 0.119745,
     "end_time": "2023-08-19T00:57:49.184065",
     "exception": false,
     "start_time": "2023-08-19T00:57:49.064320",
     "status": "completed"
    },
    "tags": []
   },
   "outputs": [
    {
     "name": "stdout",
     "output_type": "stream",
     "text": [
      "Accuracy: 0.9996974516787109\n"
     ]
    }
   ],
   "source": [
    "print(\"Accuracy:\",accuracy_score(y_test,y_prediction))"
   ]
  }
 ],
 "metadata": {
  "kernelspec": {
   "display_name": "Python 3",
   "language": "python",
   "name": "python3"
  },
  "language_info": {
   "codemirror_mode": {
    "name": "ipython",
    "version": 3
   },
   "file_extension": ".py",
   "mimetype": "text/x-python",
   "name": "python",
   "nbconvert_exporter": "python",
   "pygments_lexer": "ipython3",
   "version": "3.10.12"
  },
  "papermill": {
   "default_parameters": {},
   "duration": 78.834925,
   "end_time": "2023-08-19T00:57:50.515434",
   "environment_variables": {},
   "exception": null,
   "input_path": "__notebook__.ipynb",
   "output_path": "__notebook__.ipynb",
   "parameters": {},
   "start_time": "2023-08-19T00:56:31.680509",
   "version": "2.4.0"
  }
 },
 "nbformat": 4,
 "nbformat_minor": 5
}
